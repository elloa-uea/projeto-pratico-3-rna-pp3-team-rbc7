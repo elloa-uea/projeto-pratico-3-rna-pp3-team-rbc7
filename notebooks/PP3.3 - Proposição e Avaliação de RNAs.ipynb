{
 "cells": [
  {
   "cell_type": "markdown",
   "metadata": {},
   "source": [
    "## Redes Neurais Artificiais 2020.1\n",
    "\n",
    "**Disciplina**: Redes Neurais Artificiais 2020.1  \n",
    "**Professora**: Elloá B. Guedes (ebgcosta@uea.edu.br)  \n",
    "**Github**: http://github.com/elloa  \n",
    "\n",
    "**Alunos**: Lucas da Silva Lima 1515080170, Rafael Barbosa de Carvalho 1315080337.\n",
    "        \n",
    "\n",
    "Levando em conta a base de dados **_Forest Cover Type_**, esta terceira parte do Projeto Prático 3 diz respeito à proposição e avaliação de múltiplas redes neurais artificiais do tipo feedforward multilayer perceptron para o problema da classificação multi-classe da cobertura florestal em uma área do Roosevelt National Forest.\n",
    "\n",
    "## Testando Redes Neurais sem os Atributos Categórios\n",
    "\n",
    "1. Abra a base de dados em questão\n",
    "2. Elimine todas as colunas relativas aos atributos categóricos\n",
    "3. Armazene o atributo alvo em uma variável y e os atributos preditores em uma variável X\n",
    "4. Efetue uma partição holdout 70/30 com o sklearn, distribuindo os exemplos de maneira aleatória\n",
    "5. Efetue o escalonamento dos atributos\n",
    "\n",
    "### Escalonando os atributos\n",
    "\n",
    "O treinamento de uma rede neural artificial é mais eficiente quando os valores que lhes são fornecidos como entrada são pequenos, pois isto favorece a convergência. Isto é feito escalonando-se todos os atributos para o intervalo [0,1], mas precisa ser feito de maneira cautelosa, para que informações do conjunto de teste não sejam fornecidas no treinamento.\n",
    "\n",
    "Há duas estratégias para tal escalonamento: normalização e padronização. Ambas possuem características particulares, vantagens e limitações, como é possível ver aqui: https://www.analyticsvidhya.com/blog/2020/04/feature-scaling-machine-learning-normalization-standardization/\n",
    "\n",
    "\n",
    "No nosso caso, vamos usar a padronização. Assim, com os atributos preditores do treinamento, isto é, X_train, deve-se subtrair a média e dividir pelo desvio padrão:\n",
    "\n",
    "X_train_std = (X_train - np.mean(X_train))/np.std(X_train)\n",
    "\n",
    "Em seguida, o mesmo deve ser feito com os atributos preditores do conjunto de testes, mas com padronização relativa ao conjunto de treinamento:\n",
    "\n",
    "X_test_std = (X_test - np.mean(X_train))/np.std(X_train)\n",
    "\n",
    "Se todo o conjunto X for utilizado na padronização, a rede neural receberá informações do conjunto de teste por meio da média e variância utilizada para preparar os dados de treinamento, o que não é desejável.\n",
    "\n",
    "\n",
    "### Continuando\n",
    "\n",
    "5. Treine uma rede neural multilayer perceptron para este problema com uma única camada e dez neurônios  \n",
    "    5.1 Utilize a função de ativação ReLU  \n",
    "    5.2 Utilize o solver Adam    \n",
    "    5.3 Imprima o passo a passo do treinamento    \n",
    "    5.4 Utilize o número máximo de épocas igual a 300  \n",
    "6. Com o modelo em questão, após o treinamento, apresente:  \n",
    "    6.1 Matriz de confusão para o conjunto de teste  \n",
    "    6.2 Acurácia  \n",
    "    6.3 F-Score  \n",
    "    6.4 Precisão  \n",
    "    6.5 Revocação  \n",
    "7. Repita o treinamento da mesma rede anterior sem imprimir o passo a passo (verbose False) por 100 vezes  \n",
    "    7.1 Cada uma destas repetições deve ser feita com uma nova partição Holdout  \n",
    "    7.2 Apresente a média e o desvio padrão da acurácia e do F-Score para o conjunto de treino  \n",
    "8. Repita por 100 vezes o treinamento desta mesma rede, mas utilizando o otimizador SGD  \n",
    "    8.1 Apresente a média e o desvio padrão da acurácia e do F-Score para o conjunto de treino  \n",
    "9. Houve influência da escolha do otimizador no desempenho da rede?"
   ]
  },
  {
   "cell_type": "code",
   "execution_count": 2,
   "metadata": {},
   "outputs": [],
   "source": [
    "## Reservado para a importação de bibliotecas\n",
    "import numpy as np\n",
    "import matplotlib.pyplot as plt\n",
    "import pandas as pd\n",
    "from sklearn.model_selection import train_test_split\n",
    "from sklearn.neural_network import MLPClassifier\n",
    "from sklearn.metrics import plot_confusion_matrix, accuracy_score, f1_score, precision_score, recall_score\n",
    "from sklearn.preprocessing import StandardScaler"
   ]
  },
  {
   "cell_type": "code",
   "execution_count": 3,
   "metadata": {},
   "outputs": [],
   "source": [
    "#1 acessando a base\n",
    "csvFile = pd.read_csv(\"data/covtype.csv\")\n",
    "df = pd.DataFrame(csvFile)    "
   ]
  },
  {
   "cell_type": "code",
   "execution_count": 11,
   "metadata": {},
   "outputs": [],
   "source": [
    "#2 elimando colunas relativo atributos categóricos\n",
    "columns = ['Wilderness_Area1', 'Wilderness_Area2', 'Wilderness_Area3','Wilderness_Area4']\n",
    "for i in range(1,41):\n",
    "    soil = 'Soil_Type'+str(i)\n",
    "    columns.append(soil)\n",
    "    soil = '' \n",
    "\n",
    "\n",
    "df.drop(columns, axis='columns', inplace=True)\n",
    "\n"
   ]
  },
  {
   "cell_type": "code",
   "execution_count": 4,
   "metadata": {},
   "outputs": [],
   "source": [
    "#3\n",
    "array = df.to_numpy() # retorna uma matriz numpy\n",
    "\n",
    "x = array[...,0:array.shape[1]-1] # atributos preditores\n",
    "y = array[...,array.shape[1]-1]  # -> y[y0,y1,y2]\n",
    "# y = array[...,array.shape[1]-1: ]  # -> y[[y0],[y1],[y2]] \n",
    "\n"
   ]
  },
  {
   "cell_type": "code",
   "execution_count": 13,
   "metadata": {},
   "outputs": [],
   "source": [
    "##### 4\n",
    "x_train, x_test, y_train, y_test = train_test_split(x, y, test_size=0.3, shuffle=True)\n",
    "# função que divide o conjunto de teste 70/30 de forma aleatoria, tanto para x, quanto para y, porem mantendo a correspondencia"
   ]
  },
  {
   "cell_type": "code",
   "execution_count": 126,
   "metadata": {},
   "outputs": [
    {
     "name": "stdout",
     "output_type": "stream",
     "text": [
      "Iteration 1, loss = 0.71808092\n",
      "Iteration 2, loss = 0.67595445\n",
      "Iteration 3, loss = 0.67311105\n",
      "Iteration 4, loss = 0.66994049\n",
      "Iteration 5, loss = 0.66590044\n",
      "Iteration 6, loss = 0.66421958\n",
      "Iteration 7, loss = 0.66312249\n",
      "Iteration 8, loss = 0.65998837\n",
      "Iteration 9, loss = 0.65699921\n",
      "Iteration 10, loss = 0.65622794\n",
      "Iteration 11, loss = 0.65581755\n",
      "Iteration 12, loss = 0.65552565\n",
      "Iteration 13, loss = 0.65546065\n",
      "Iteration 14, loss = 0.65545714\n",
      "Iteration 15, loss = 0.65467470\n",
      "Iteration 16, loss = 0.65539454\n",
      "Iteration 17, loss = 0.65499494\n",
      "Iteration 18, loss = 0.65500415\n",
      "Iteration 19, loss = 0.65437155\n",
      "Iteration 20, loss = 0.65445697\n",
      "Iteration 21, loss = 0.65436594\n",
      "Iteration 22, loss = 0.65476380\n",
      "Iteration 23, loss = 0.65444843\n",
      "Iteration 24, loss = 0.65437165\n",
      "Iteration 25, loss = 0.65413838\n",
      "Iteration 26, loss = 0.65432008\n",
      "Iteration 27, loss = 0.65436328\n",
      "Iteration 28, loss = 0.65409766\n",
      "Iteration 29, loss = 0.65426721\n",
      "Iteration 30, loss = 0.65436115\n",
      "Iteration 31, loss = 0.65383174\n",
      "Iteration 32, loss = 0.65429203\n",
      "Iteration 33, loss = 0.65425366\n",
      "Iteration 34, loss = 0.65388178\n",
      "Iteration 35, loss = 0.65395548\n",
      "Iteration 36, loss = 0.65365255\n",
      "Iteration 37, loss = 0.65422809\n",
      "Iteration 38, loss = 0.65401123\n",
      "Iteration 39, loss = 0.65416055\n",
      "Iteration 40, loss = 0.65401593\n",
      "Iteration 41, loss = 0.65446994\n",
      "Iteration 42, loss = 0.65408444\n",
      "Iteration 43, loss = 0.65419534\n",
      "Iteration 44, loss = 0.65400071\n",
      "Iteration 45, loss = 0.65326331\n",
      "Iteration 46, loss = 0.65316403\n",
      "Iteration 47, loss = 0.65337578\n",
      "Iteration 48, loss = 0.65301848\n",
      "Iteration 49, loss = 0.65308478\n",
      "Iteration 50, loss = 0.65311660\n",
      "Iteration 51, loss = 0.65324080\n",
      "Iteration 52, loss = 0.65287209\n",
      "Iteration 53, loss = 0.65301893\n",
      "Iteration 54, loss = 0.65339769\n",
      "Iteration 55, loss = 0.65301307\n",
      "Iteration 56, loss = 0.65291659\n",
      "Iteration 57, loss = 0.65270663\n",
      "Iteration 58, loss = 0.65321147\n",
      "Iteration 59, loss = 0.65298381\n",
      "Iteration 60, loss = 0.65299918\n",
      "Iteration 61, loss = 0.65290632\n",
      "Iteration 62, loss = 0.65226000\n",
      "Iteration 63, loss = 0.65229996\n",
      "Iteration 64, loss = 0.65240937\n",
      "Iteration 65, loss = 0.65241008\n",
      "Iteration 66, loss = 0.65259335\n",
      "Iteration 67, loss = 0.65203408\n",
      "Iteration 68, loss = 0.65250628\n",
      "Iteration 69, loss = 0.65229215\n",
      "Iteration 70, loss = 0.65234143\n",
      "Iteration 71, loss = 0.65275993\n",
      "Iteration 72, loss = 0.65205740\n",
      "Iteration 73, loss = 0.65247658\n",
      "Iteration 74, loss = 0.65228309\n",
      "Iteration 75, loss = 0.65260039\n",
      "Iteration 76, loss = 0.65186507\n",
      "Iteration 77, loss = 0.65232853\n",
      "Iteration 78, loss = 0.65216507\n",
      "Iteration 79, loss = 0.65268553\n",
      "Iteration 80, loss = 0.65219202\n",
      "Iteration 81, loss = 0.65212475\n",
      "Iteration 82, loss = 0.65172342\n",
      "Iteration 83, loss = 0.65266131\n",
      "Iteration 84, loss = 0.65209261\n",
      "Iteration 85, loss = 0.65211203\n",
      "Iteration 86, loss = 0.65229019\n",
      "Iteration 87, loss = 0.65260672\n",
      "Iteration 88, loss = 0.65252199\n",
      "Iteration 89, loss = 0.65201523\n",
      "Iteration 90, loss = 0.65184832\n",
      "Iteration 91, loss = 0.65206774\n",
      "Iteration 92, loss = 0.65199169\n",
      "Iteration 93, loss = 0.65222294\n",
      "Training loss did not improve more than tol=0.000100 for 10 consecutive epochs. Stopping.\n"
     ]
    }
   ],
   "source": [
    "# 5\n",
    "scaler_x_train = StandardScaler()\n",
    "# scaler_y_train = StandardScaler()\n",
    "\n",
    "x_train_transformed = scaler_x_train.fit_transform(x_train)\n",
    "# escalonando para o treino\n",
    "neuralNetwork = MLPClassifier(hidden_layer_sizes=(10), activation=\"relu\", solver=\"adam\", random_state=1, max_iter=300, learning_rate_init=0.01,verbose=\"true\",).fit(x_train_transformed, y_train)\n"
   ]
  },
  {
   "cell_type": "code",
   "execution_count": 130,
   "metadata": {},
   "outputs": [
    {
     "name": "stdout",
     "output_type": "stream",
     "text": [
      "Acurácia = 0.7175 \n",
      "F-Score = 0.5415\n",
      "Revocação = 0.5275\n",
      "Precisão = 0.6307\n"
     ]
    },
    {
     "data": {
      "image/png": "[encoded data removed]",
      "text/plain": [
       "<Figure size 1008x864 with 2 Axes>"
      ]
     },
     "metadata": {
      "needs_background": "light"
     },
     "output_type": "display_data"
    }
   ],
   "source": [
    "#6\n",
    "scaler_x_test = StandardScaler()\n",
    "x_test_transformed = scaler_x_test.fit_transform(x_test)\n",
    "y_predict = neuralNetwork.predict(x_train_transformed)\n",
    "\n",
    "\n",
    "print(\"Acurácia = %.4f \" % accuracy_score(y_train, y_predict))\n",
    "print(\"F-Score = %.4f\" % f1_score(y_train, y_predict, average='macro'))\n",
    "print(\"Revocação = %.4f\" % recall_score(y_train, y_predict, average='macro'))\n",
    "print(\"Precisão = %.4f\" % precision_score(y_train, y_predict, average='macro', zero_division=0))\n",
    "# argumento zero division, considera como 0, caso haja essa divisão, mas também pode ser jogado para 1,\n",
    "# para 0, o valor fica baixo, indicando que há muitas ocorrencias disso, talvez devido ao desbalanceamento dos dados\n",
    "\n",
    "fig, ax = plt.subplots(figsize=(14,12))\n",
    "plot_confusion_matrix(neuralNetwork, x_test_transformed, y_test,\n",
    "                           display_labels=[\"Spruce\",\"Logdepole pine\",\"Ponderosa pine\",\"Cottonwood willow\",\"Aspen\",\"Douglas-fir\",\"Krummholz\"], \n",
    "                           cmap=plt.cm.Blues,\n",
    "                           normalize=\"true\", ax=ax)\n",
    "\n",
    "plt.title(\"Matriz de Confusão do Modelo para o Conjunto de Teste\")\n",
    "plt.show()\n",
    "\n"
   ]
  },
  {
   "cell_type": "code",
   "execution_count": 139,
   "metadata": {},
   "outputs": [],
   "source": [
    "#7\n",
    "#optamos por rodar treinar apenas 15 vezes, visto que 100 vezes ficou inviável para a maquina que temos disponibilizado\n",
    "#como fora recomendado, para fins de obter um resultado, treinaremos 15 vezes.\n",
    "\n",
    "def training_neuralNetwork(optimizer):    \n",
    "    neuralNetwork_100 = MLPClassifier(hidden_layer_sizes=(10), activation=\"relu\", solver=optimizer, random_state=1, max_iter=300, learning_rate_init=0.01)\n",
    "    accuracy_array = []\n",
    "    f_score_array = []\n",
    "    for i in range(15):\n",
    "        x100_train, x100_test, y100_train, y100_test = train_test_split(x, y, test_size=0.3, shuffle=True)\n",
    "        scaler100_x_train = StandardScaler()\n",
    "        x100_train_transformed = scaler100_x_train.fit_transform(x100_train)\n",
    "        neuralNetwork_100.fit(x100_train_transformed, y100_train)\n",
    "        y100_predict = neuralNetwork.predict(x100_train_transformed)\n",
    "        accuracy_array = np.insert(accuracy_array, i, accuracy_score(y100_train, y100_predict),axis=0)\n",
    "        f_score_array = np.insert(f_score_array, i, f1_score(y100_train, y100_predict, average='macro'), axis=0)\n",
    "\n",
    "\n",
    "    print(\"Média Acurácia = %.4f \" % accuracy_array.mean())\n",
    "    print(\"Desvio Padrão Acurácia = %.4f\" % accuracy_array.std())\n",
    "    print(\"Média F-Score = %.4f\" % f_score_array.mean())\n",
    "    print(\"Desvio Padrão F-Score = %.4f\" % f_score_array.std())\n",
    "\n"
   ]
  },
  {
   "cell_type": "code",
   "execution_count": 140,
   "metadata": {},
   "outputs": [
    {
     "name": "stdout",
     "output_type": "stream",
     "text": [
      "Média Acurácia = 0.7177 \n",
      "Desvio Padrão Acurácia = 0.0004\n",
      "Média F-Score = 0.5403\n",
      "Desvio Padrão F-Score = 0.0012\n"
     ]
    }
   ],
   "source": [
    "# 7.1 e 7.2\n",
    "optimizer_adam = training_neuralNetwork(\"adam\")"
   ]
  },
  {
   "cell_type": "code",
   "execution_count": 141,
   "metadata": {},
   "outputs": [
    {
     "name": "stdout",
     "output_type": "stream",
     "text": [
      "Média Acurácia = 0.7180 \n",
      "Desvio Padrão Acurácia = 0.0005\n",
      "Média F-Score = 0.5404\n",
      "Desvio Padrão F-Score = 0.0008\n"
     ]
    }
   ],
   "source": [
    "#8\n",
    "optimizer_sgd = training_neuralNetwork(\"sgd\")"
   ]
  },
  {
   "cell_type": "markdown",
   "metadata": {},
   "source": [
    "#### 9. \n",
    "Não há influência, significante em relação aos diferentes otimizadores, pois olhando-se tanto a média quanto o desvio das duas métricas, a diferença entre elas é pouquissima"
   ]
  },
  {
   "cell_type": "markdown",
   "metadata": {},
   "source": [
    "## Discussão\n",
    "\n",
    "Nos passos anteriores, você avaliou o desempenho de uma única rede neural que contém os seguintes parâmetros: uma única camada oculta com 10 neurônios e função de ativação ReLU. O otimizador utilizado, quer seja SGD ou ADAM, trata-se do algoritmo para aproximar o gradiente do erro. Neste sentido, a escolha do otimizador é um hiperparâmetro, pois diz respeito a como a rede neural definida previamente atuará \"em tempo de execução\"  durante o processo de treinamento. Também são hiperparâmetros a quantidade de épocas, a taxa de aprendizado inicial, dentre outros.\n",
    "\n",
    "Cabe alientar também que você efetuou o treinamento desta rede por 100 vezes e apresentou os resultados em termos de média +- desvio padrão. Lembre-se que em uma rede neural há a inicialização aleatória de pesos e, em consequência, o desempenho delas está sujeito à uma flutuação estocástica. A execução destas múltiplas vezes faz com que eliminemos algum viés introduzido por uma boa ou má \"sorte\" na escolha de pesos no caso de uma única execução.\n",
    "\n",
    "Você também aprendeu uma estratégia para escalonar os atributos para uma melhor convergência da rede. Utilize-a em todos os treinamentos e testes propostos a seguir.\n",
    "\n",
    "## Propondo Novas Arquiteturas\n",
    "\n",
    "Variando  os parâmetros (uma ou duas camadas ocultas, com diferente números de neurônios em cada uma delas e a função de ativação) e o hiperparâmetros solver (Adam ou SGD) e o número de épocas (100,150 e 200), atenda ao que se pede:\n",
    "\n",
    "1. Proponha 10 arquiteturas distintas de RNAs para o problema em questão, à sua escolha\n",
    "2. Avalie cada uma das arquiteturas perante todos os hiperparâmetros apresentados por 100 vezes\n",
    "3. Como resultado da avaliação, apresente:  \n",
    "    3.1 Top-3 melhores redes no tocante à F-Score e Acurácia  \n",
    "    3.2 Repetição em que houve o melhor desempenho de cada uma dessas redes: ilustre tp, tf, fp e fn  "
   ]
  },
  {
   "cell_type": "code",
   "execution_count": 5,
   "metadata": {},
   "outputs": [],
   "source": [
    "def train_rn_with_parameters(neural_network):    \n",
    "    for i in range(15):\n",
    "        x100_train, x100_test, y100_train, y100_test = train_test_split(x, y, test_size=0.3, shuffle=True)\n",
    "        scaler100_x_train = StandardScaler()\n",
    "        x100_train_transformed = scaler100_x_train.fit_transform(x100_train)\n",
    "        neural_network.fit(x100_train_transformed, y100_train)\n",
    "        y100_predict = neural_network.predict(x100_train_transformed)\n",
    "    accuracy =  accuracy_score(y100_train, y100_predict)\n",
    "    fscore =  f1_score(y100_train, y100_predict, average='macro')\n",
    "    return [accuracy,fscore]\n",
    "\n"
   ]
  },
  {
   "cell_type": "code",
   "execution_count": 6,
   "metadata": {},
   "outputs": [],
   "source": [
    "acc_array = []\n",
    "fscore_array = []\n",
    "\n",
    "rn1 = MLPClassifier(hidden_layer_sizes=(10, 10), activation=\"relu\", solver='adam', random_state=1, max_iter=200, learning_rate_init=0.01)\n",
    "rn1_result = train_rn_with_parameters(rn1)\n",
    "acc_array.append(rn1_result[0])\n",
    "fscore_array.append(rn1_result[1])"
   ]
  },
  {
   "cell_type": "code",
   "execution_count": 7,
   "metadata": {},
   "outputs": [],
   "source": [
    "rn2 = MLPClassifier(hidden_layer_sizes=(10, 15), activation=\"relu\", solver='adam', random_state=1, max_iter=150, learning_rate_init=0.01)\n",
    "rn2_result = train_rn_with_parameters(rn2)\n",
    "acc_array.append(rn2_result[0])\n",
    "fscore_array.append(rn2_result[1])"
   ]
  },
  {
   "cell_type": "code",
   "execution_count": 8,
   "metadata": {},
   "outputs": [],
   "source": [
    "rn3 = MLPClassifier(hidden_layer_sizes=(15), activation=\"logistic\", solver='adam', random_state=1, max_iter=200, learning_rate_init=0.01)\n",
    "rn3_result = train_rn_with_parameters(rn3)\n",
    "acc_array.append(rn3_result[0])\n",
    "fscore_array.append(rn3_result[1])"
   ]
  },
  {
   "cell_type": "code",
   "execution_count": 9,
   "metadata": {},
   "outputs": [
    {
     "name": "stderr",
     "output_type": "stream",
     "text": [
      "C:\\Users\\Rafael\\anaconda3\\lib\\site-packages\\sklearn\\neural_network\\_multilayer_perceptron.py:582: ConvergenceWarning: Stochastic Optimizer: Maximum iterations (100) reached and the optimization hasn't converged yet.\n",
      "  warnings.warn(\n",
      "C:\\Users\\Rafael\\anaconda3\\lib\\site-packages\\sklearn\\neural_network\\_multilayer_perceptron.py:582: ConvergenceWarning: Stochastic Optimizer: Maximum iterations (100) reached and the optimization hasn't converged yet.\n",
      "  warnings.warn(\n",
      "C:\\Users\\Rafael\\anaconda3\\lib\\site-packages\\sklearn\\neural_network\\_multilayer_perceptron.py:582: ConvergenceWarning: Stochastic Optimizer: Maximum iterations (100) reached and the optimization hasn't converged yet.\n",
      "  warnings.warn(\n",
      "C:\\Users\\Rafael\\anaconda3\\lib\\site-packages\\sklearn\\neural_network\\_multilayer_perceptron.py:582: ConvergenceWarning: Stochastic Optimizer: Maximum iterations (100) reached and the optimization hasn't converged yet.\n",
      "  warnings.warn(\n",
      "C:\\Users\\Rafael\\anaconda3\\lib\\site-packages\\sklearn\\neural_network\\_multilayer_perceptron.py:582: ConvergenceWarning: Stochastic Optimizer: Maximum iterations (100) reached and the optimization hasn't converged yet.\n",
      "  warnings.warn(\n"
     ]
    }
   ],
   "source": [
    "rn4 = MLPClassifier(hidden_layer_sizes=(15,15), activation=\"logistic\", solver='adam', random_state=1, max_iter=100, learning_rate_init=0.01)\n",
    "rn4_result = train_rn_with_parameters(rn4)\n",
    "acc_array.append(rn4_result[0])\n",
    "fscore_array.append(rn4_result[1])"
   ]
  },
  {
   "cell_type": "code",
   "execution_count": 10,
   "metadata": {},
   "outputs": [],
   "source": [
    "rn5 = MLPClassifier(hidden_layer_sizes=(5,10), activation=\"tanh\", solver='adam', random_state=1, max_iter=150, learning_rate_init=0.01)\n",
    "rn5_result = train_rn_with_parameters(rn5)\n",
    "acc_array.append(rn5_result[0])\n",
    "fscore_array.append(rn5_result[1])"
   ]
  },
  {
   "cell_type": "code",
   "execution_count": 11,
   "metadata": {},
   "outputs": [],
   "source": [
    "rn6 = MLPClassifier(hidden_layer_sizes=(10), activation=\"relu\", solver='sgd', random_state=1, max_iter=200, learning_rate_init=0.01)\n",
    "rn6_result = train_rn_with_parameters(rn6)\n",
    "acc_array.append(rn6_result[0])\n",
    "fscore_array.append(rn6_result[1])"
   ]
  },
  {
   "cell_type": "code",
   "execution_count": 12,
   "metadata": {},
   "outputs": [
    {
     "name": "stderr",
     "output_type": "stream",
     "text": [
      "C:\\Users\\Rafael\\anaconda3\\lib\\site-packages\\sklearn\\neural_network\\_multilayer_perceptron.py:582: ConvergenceWarning: Stochastic Optimizer: Maximum iterations (100) reached and the optimization hasn't converged yet.\n",
      "  warnings.warn(\n",
      "C:\\Users\\Rafael\\anaconda3\\lib\\site-packages\\sklearn\\neural_network\\_multilayer_perceptron.py:582: ConvergenceWarning: Stochastic Optimizer: Maximum iterations (100) reached and the optimization hasn't converged yet.\n",
      "  warnings.warn(\n",
      "C:\\Users\\Rafael\\anaconda3\\lib\\site-packages\\sklearn\\neural_network\\_multilayer_perceptron.py:582: ConvergenceWarning: Stochastic Optimizer: Maximum iterations (100) reached and the optimization hasn't converged yet.\n",
      "  warnings.warn(\n",
      "C:\\Users\\Rafael\\anaconda3\\lib\\site-packages\\sklearn\\neural_network\\_multilayer_perceptron.py:582: ConvergenceWarning: Stochastic Optimizer: Maximum iterations (100) reached and the optimization hasn't converged yet.\n",
      "  warnings.warn(\n",
      "C:\\Users\\Rafael\\anaconda3\\lib\\site-packages\\sklearn\\neural_network\\_multilayer_perceptron.py:582: ConvergenceWarning: Stochastic Optimizer: Maximum iterations (100) reached and the optimization hasn't converged yet.\n",
      "  warnings.warn(\n",
      "C:\\Users\\Rafael\\anaconda3\\lib\\site-packages\\sklearn\\neural_network\\_multilayer_perceptron.py:582: ConvergenceWarning: Stochastic Optimizer: Maximum iterations (100) reached and the optimization hasn't converged yet.\n",
      "  warnings.warn(\n",
      "C:\\Users\\Rafael\\anaconda3\\lib\\site-packages\\sklearn\\neural_network\\_multilayer_perceptron.py:582: ConvergenceWarning: Stochastic Optimizer: Maximum iterations (100) reached and the optimization hasn't converged yet.\n",
      "  warnings.warn(\n",
      "C:\\Users\\Rafael\\anaconda3\\lib\\site-packages\\sklearn\\neural_network\\_multilayer_perceptron.py:582: ConvergenceWarning: Stochastic Optimizer: Maximum iterations (100) reached and the optimization hasn't converged yet.\n",
      "  warnings.warn(\n",
      "C:\\Users\\Rafael\\anaconda3\\lib\\site-packages\\sklearn\\neural_network\\_multilayer_perceptron.py:582: ConvergenceWarning: Stochastic Optimizer: Maximum iterations (100) reached and the optimization hasn't converged yet.\n",
      "  warnings.warn(\n",
      "C:\\Users\\Rafael\\anaconda3\\lib\\site-packages\\sklearn\\neural_network\\_multilayer_perceptron.py:582: ConvergenceWarning: Stochastic Optimizer: Maximum iterations (100) reached and the optimization hasn't converged yet.\n",
      "  warnings.warn(\n",
      "C:\\Users\\Rafael\\anaconda3\\lib\\site-packages\\sklearn\\neural_network\\_multilayer_perceptron.py:582: ConvergenceWarning: Stochastic Optimizer: Maximum iterations (100) reached and the optimization hasn't converged yet.\n",
      "  warnings.warn(\n",
      "C:\\Users\\Rafael\\anaconda3\\lib\\site-packages\\sklearn\\neural_network\\_multilayer_perceptron.py:582: ConvergenceWarning: Stochastic Optimizer: Maximum iterations (100) reached and the optimization hasn't converged yet.\n",
      "  warnings.warn(\n"
     ]
    }
   ],
   "source": [
    "rn7 = MLPClassifier(hidden_layer_sizes=(10,15), activation=\"tanh\", solver='sgd', random_state=1, max_iter=100, learning_rate_init=0.01)\n",
    "rn7_result = train_rn_with_parameters(rn7)\n",
    "acc_array.append(rn7_result[0])\n",
    "fscore_array.append(rn7_result[1])"
   ]
  },
  {
   "cell_type": "code",
   "execution_count": 13,
   "metadata": {},
   "outputs": [],
   "source": [
    "rn8 = MLPClassifier(hidden_layer_sizes=(10,10), activation=\"identity\", solver='sgd', random_state=1, max_iter=150, learning_rate_init=0.01)\n",
    "rn8_result = train_rn_with_parameters(rn8)\n",
    "acc_array.append(rn8_result[0])\n",
    "fscore_array.append(rn8_result[1])"
   ]
  },
  {
   "cell_type": "code",
   "execution_count": 14,
   "metadata": {},
   "outputs": [
    {
     "name": "stderr",
     "output_type": "stream",
     "text": [
      "C:\\Users\\Rafael\\anaconda3\\lib\\site-packages\\sklearn\\neural_network\\_multilayer_perceptron.py:582: ConvergenceWarning: Stochastic Optimizer: Maximum iterations (100) reached and the optimization hasn't converged yet.\n",
      "  warnings.warn(\n",
      "C:\\Users\\Rafael\\anaconda3\\lib\\site-packages\\sklearn\\neural_network\\_multilayer_perceptron.py:582: ConvergenceWarning: Stochastic Optimizer: Maximum iterations (100) reached and the optimization hasn't converged yet.\n",
      "  warnings.warn(\n",
      "C:\\Users\\Rafael\\anaconda3\\lib\\site-packages\\sklearn\\neural_network\\_multilayer_perceptron.py:582: ConvergenceWarning: Stochastic Optimizer: Maximum iterations (100) reached and the optimization hasn't converged yet.\n",
      "  warnings.warn(\n",
      "C:\\Users\\Rafael\\anaconda3\\lib\\site-packages\\sklearn\\neural_network\\_multilayer_perceptron.py:582: ConvergenceWarning: Stochastic Optimizer: Maximum iterations (100) reached and the optimization hasn't converged yet.\n",
      "  warnings.warn(\n",
      "C:\\Users\\Rafael\\anaconda3\\lib\\site-packages\\sklearn\\neural_network\\_multilayer_perceptron.py:582: ConvergenceWarning: Stochastic Optimizer: Maximum iterations (100) reached and the optimization hasn't converged yet.\n",
      "  warnings.warn(\n",
      "C:\\Users\\Rafael\\anaconda3\\lib\\site-packages\\sklearn\\neural_network\\_multilayer_perceptron.py:582: ConvergenceWarning: Stochastic Optimizer: Maximum iterations (100) reached and the optimization hasn't converged yet.\n",
      "  warnings.warn(\n",
      "C:\\Users\\Rafael\\anaconda3\\lib\\site-packages\\sklearn\\neural_network\\_multilayer_perceptron.py:582: ConvergenceWarning: Stochastic Optimizer: Maximum iterations (100) reached and the optimization hasn't converged yet.\n",
      "  warnings.warn(\n",
      "C:\\Users\\Rafael\\anaconda3\\lib\\site-packages\\sklearn\\neural_network\\_multilayer_perceptron.py:582: ConvergenceWarning: Stochastic Optimizer: Maximum iterations (100) reached and the optimization hasn't converged yet.\n",
      "  warnings.warn(\n",
      "C:\\Users\\Rafael\\anaconda3\\lib\\site-packages\\sklearn\\neural_network\\_multilayer_perceptron.py:582: ConvergenceWarning: Stochastic Optimizer: Maximum iterations (100) reached and the optimization hasn't converged yet.\n",
      "  warnings.warn(\n",
      "C:\\Users\\Rafael\\anaconda3\\lib\\site-packages\\sklearn\\neural_network\\_multilayer_perceptron.py:582: ConvergenceWarning: Stochastic Optimizer: Maximum iterations (100) reached and the optimization hasn't converged yet.\n",
      "  warnings.warn(\n",
      "C:\\Users\\Rafael\\anaconda3\\lib\\site-packages\\sklearn\\neural_network\\_multilayer_perceptron.py:582: ConvergenceWarning: Stochastic Optimizer: Maximum iterations (100) reached and the optimization hasn't converged yet.\n",
      "  warnings.warn(\n",
      "C:\\Users\\Rafael\\anaconda3\\lib\\site-packages\\sklearn\\neural_network\\_multilayer_perceptron.py:582: ConvergenceWarning: Stochastic Optimizer: Maximum iterations (100) reached and the optimization hasn't converged yet.\n",
      "  warnings.warn(\n",
      "C:\\Users\\Rafael\\anaconda3\\lib\\site-packages\\sklearn\\neural_network\\_multilayer_perceptron.py:582: ConvergenceWarning: Stochastic Optimizer: Maximum iterations (100) reached and the optimization hasn't converged yet.\n",
      "  warnings.warn(\n",
      "C:\\Users\\Rafael\\anaconda3\\lib\\site-packages\\sklearn\\neural_network\\_multilayer_perceptron.py:582: ConvergenceWarning: Stochastic Optimizer: Maximum iterations (100) reached and the optimization hasn't converged yet.\n",
      "  warnings.warn(\n",
      "C:\\Users\\Rafael\\anaconda3\\lib\\site-packages\\sklearn\\neural_network\\_multilayer_perceptron.py:582: ConvergenceWarning: Stochastic Optimizer: Maximum iterations (100) reached and the optimization hasn't converged yet.\n",
      "  warnings.warn(\n"
     ]
    }
   ],
   "source": [
    "rn9 = MLPClassifier(hidden_layer_sizes=(10), activation=\"logistic\", solver='sgd', random_state=1, max_iter=100, learning_rate_init=0.01)\n",
    "rn9_result = train_rn_with_parameters(rn9)\n",
    "acc_array.append(rn9_result[0])\n",
    "fscore_array.append(rn9_result[1])"
   ]
  },
  {
   "cell_type": "code",
   "execution_count": 15,
   "metadata": {},
   "outputs": [
    {
     "name": "stderr",
     "output_type": "stream",
     "text": [
      "C:\\Users\\Rafael\\anaconda3\\lib\\site-packages\\sklearn\\neural_network\\_multilayer_perceptron.py:582: ConvergenceWarning: Stochastic Optimizer: Maximum iterations (200) reached and the optimization hasn't converged yet.\n",
      "  warnings.warn(\n",
      "C:\\Users\\Rafael\\anaconda3\\lib\\site-packages\\sklearn\\neural_network\\_multilayer_perceptron.py:582: ConvergenceWarning: Stochastic Optimizer: Maximum iterations (200) reached and the optimization hasn't converged yet.\n",
      "  warnings.warn(\n",
      "C:\\Users\\Rafael\\anaconda3\\lib\\site-packages\\sklearn\\neural_network\\_multilayer_perceptron.py:582: ConvergenceWarning: Stochastic Optimizer: Maximum iterations (200) reached and the optimization hasn't converged yet.\n",
      "  warnings.warn(\n",
      "C:\\Users\\Rafael\\anaconda3\\lib\\site-packages\\sklearn\\neural_network\\_multilayer_perceptron.py:582: ConvergenceWarning: Stochastic Optimizer: Maximum iterations (200) reached and the optimization hasn't converged yet.\n",
      "  warnings.warn(\n",
      "C:\\Users\\Rafael\\anaconda3\\lib\\site-packages\\sklearn\\neural_network\\_multilayer_perceptron.py:582: ConvergenceWarning: Stochastic Optimizer: Maximum iterations (200) reached and the optimization hasn't converged yet.\n",
      "  warnings.warn(\n",
      "C:\\Users\\Rafael\\anaconda3\\lib\\site-packages\\sklearn\\neural_network\\_multilayer_perceptron.py:582: ConvergenceWarning: Stochastic Optimizer: Maximum iterations (200) reached and the optimization hasn't converged yet.\n",
      "  warnings.warn(\n",
      "C:\\Users\\Rafael\\anaconda3\\lib\\site-packages\\sklearn\\neural_network\\_multilayer_perceptron.py:582: ConvergenceWarning: Stochastic Optimizer: Maximum iterations (200) reached and the optimization hasn't converged yet.\n",
      "  warnings.warn(\n",
      "C:\\Users\\Rafael\\anaconda3\\lib\\site-packages\\sklearn\\neural_network\\_multilayer_perceptron.py:582: ConvergenceWarning: Stochastic Optimizer: Maximum iterations (200) reached and the optimization hasn't converged yet.\n",
      "  warnings.warn(\n",
      "C:\\Users\\Rafael\\anaconda3\\lib\\site-packages\\sklearn\\neural_network\\_multilayer_perceptron.py:582: ConvergenceWarning: Stochastic Optimizer: Maximum iterations (200) reached and the optimization hasn't converged yet.\n",
      "  warnings.warn(\n",
      "C:\\Users\\Rafael\\anaconda3\\lib\\site-packages\\sklearn\\neural_network\\_multilayer_perceptron.py:582: ConvergenceWarning: Stochastic Optimizer: Maximum iterations (200) reached and the optimization hasn't converged yet.\n",
      "  warnings.warn(\n",
      "C:\\Users\\Rafael\\anaconda3\\lib\\site-packages\\sklearn\\neural_network\\_multilayer_perceptron.py:582: ConvergenceWarning: Stochastic Optimizer: Maximum iterations (200) reached and the optimization hasn't converged yet.\n",
      "  warnings.warn(\n",
      "C:\\Users\\Rafael\\anaconda3\\lib\\site-packages\\sklearn\\neural_network\\_multilayer_perceptron.py:582: ConvergenceWarning: Stochastic Optimizer: Maximum iterations (200) reached and the optimization hasn't converged yet.\n",
      "  warnings.warn(\n",
      "C:\\Users\\Rafael\\anaconda3\\lib\\site-packages\\sklearn\\neural_network\\_multilayer_perceptron.py:582: ConvergenceWarning: Stochastic Optimizer: Maximum iterations (200) reached and the optimization hasn't converged yet.\n",
      "  warnings.warn(\n",
      "C:\\Users\\Rafael\\anaconda3\\lib\\site-packages\\sklearn\\neural_network\\_multilayer_perceptron.py:582: ConvergenceWarning: Stochastic Optimizer: Maximum iterations (200) reached and the optimization hasn't converged yet.\n",
      "  warnings.warn(\n",
      "C:\\Users\\Rafael\\anaconda3\\lib\\site-packages\\sklearn\\neural_network\\_multilayer_perceptron.py:582: ConvergenceWarning: Stochastic Optimizer: Maximum iterations (200) reached and the optimization hasn't converged yet.\n",
      "  warnings.warn(\n"
     ]
    }
   ],
   "source": [
    "rn10 = MLPClassifier(hidden_layer_sizes=(10, 15), activation=\"logistic\", solver='sgd', random_state=1, max_iter=200, learning_rate_init=0.01)\n",
    "rn10_result = train_rn_with_parameters(rn10)\n",
    "acc_array.append(rn10_result[0])\n",
    "fscore_array.append(rn10_result[1])"
   ]
  },
  {
   "cell_type": "code",
   "execution_count": 17,
   "metadata": {},
   "outputs": [
    {
     "name": "stdout",
     "output_type": "stream",
     "text": [
      "[0.7660729565191735, 0.7779684687785832, 0.7877150191292033, 0.8086071579609941, 0.7369537850251285, 0.7557018794811019, 0.7861561611770607, 0.7217217266441771, 0.7739778907717576, 0.7879190967475437] [0.5757916249260686, 0.6343388426947852, 0.6547066421053724, 0.6792787893839198, 0.5293969540135824, 0.5884578522046032, 0.6496348531266285, 0.5296521871586021, 0.6059292328086021, 0.6444556218957481]\n"
     ]
    }
   ],
   "source": [
    "print(acc_array, fscore_array)"
   ]
  },
  {
   "cell_type": "code",
   "execution_count": 32,
   "metadata": {},
   "outputs": [
    {
     "name": "stdout",
     "output_type": "stream",
     "text": [
      "Rede 1: Acurácia=0.7661, FScore=0.5758 \n",
      "Rede 2: Acurácia=0.778, FScore=0.6343 \n",
      "Rede 3: Acurácia=0.7877, FScore=0.6547 \n",
      "Rede 4: Acurácia=0.8086, FScore=0.6793 \n",
      "Rede 5: Acurácia=0.737, FScore=0.5294 \n",
      "Rede 6: Acurácia=0.7557, FScore=0.5885 \n",
      "Rede 7: Acurácia=0.7862, FScore=0.6496 \n",
      "Rede 8: Acurácia=0.7217, FScore=0.5297 \n",
      "Rede 9: Acurácia=0.774, FScore=0.6059 \n",
      "Rede 10: Acurácia=0.7879, FScore=0.6445 \n"
     ]
    }
   ],
   "source": [
    "result_arr = []\n",
    "for i in range(len(acc_array)):\n",
    "    string_res = (f\"Rede {i+1}: Acurácia={round(acc_array[i], 4)}, FScore={round(fscore_array[i], 4)} \")\n",
    "    print(string_res)\n",
    "    result_arr.append(string_res)\n"
   ]
  },
  {
   "cell_type": "code",
   "execution_count": 73,
   "metadata": {},
   "outputs": [
    {
     "name": "stdout",
     "output_type": "stream",
     "text": [
      "Melhores em Acurácia:\n",
      "Rede 4: Acurácia: 0.8086071579609941\n",
      "Rede 10: Acurácia: 0.7879190967475437\n",
      "Rede 3: Acurácia: 0.7877150191292033\n",
      "\n",
      "\n",
      "Melhores em FScore:\n",
      "Rede 4: FScore: 0.6792787893839198\n",
      "Rede 3: FScore: 0.6547066421053724\n",
      "Rede 7: FScore: 0.6496348531266285\n"
     ]
    }
   ],
   "source": [
    "ordered_acc_array = np.argsort(acc_array)\n",
    "ordered_acc_array = np.flip(ordered_acc_array)[:3]\n",
    "ordered_fscore_array = np.argsort(fscore_array)\n",
    "ordered_fscore_array = np.flip(ordered_fscore_array)[:3]\n",
    "\n",
    "print(\"Melhores em Acurácia:\")\n",
    "for i in range(0,3):\n",
    "    print(f\"Rede {ordered_acc_array[i]+1}: Acurácia: {acc_array[ordered_acc_array[i]]}\")\n",
    "\n",
    "print(\"\\n\")\n",
    "print(\"Melhores em FScore:\")\n",
    "for i in range(0,3):\n",
    "    print(f\"Rede {ordered_fscore_array[i]+1}: FScore: {fscore_array[ordered_fscore_array[i]]}\")"
   ]
  },
  {
   "cell_type": "markdown",
   "metadata": {},
   "source": [
    "## Estimando o número de neurônios\n",
    "\n",
    "Um dos problemas de pesquisa com redes neurais artificiais consiste na determinação do número de neurônios em sua arquitetura. Embora não seja possível definir a priori qual rede neural é adequada para um problema, pois isto só é possível mediante uma busca exaustiva, há regras na literatura que sugerem o número de neurônios escondidos, tal como a regra da Pirâmide Geométrica, dada a seguir:\n",
    "\n",
    "$$N_h = \\alpha \\cdot \\sqrt{N_i \\cdot N_o},$$\n",
    "\n",
    "em que $N_h$ é o número de neurônios ocultos (a serem distribuídos em uma ou duas camadas ocultas), $N_i$ é o número de neurônios na camada de entrada e $N_o$ é o número de neurônios na camada de saída. \n",
    "\n",
    "1. Consulte a documentação da classe MLPClassifier (disponível em https://scikit-learn.org/stable/modules/generated/sklearn.neural_network.MLPClassifier.html) e obtenha os valores de $N_i$ e $N_o$.\n",
    "2. Teste os valores de $\\alpha$ como sendo iguais a $0.5$, $2$ e $3$.\n",
    "3. Proponha pelo menos 30 redes neurais segundo a regra da pirâmide geométrica e teste-as nos mesmos termos estabelecidos anterioremente  (solver, épocas, etc.)  \n",
    "    3.1 Apresente as top-3 melhores redes no tocante à F-Score e Acurácia  "
   ]
  },
  {
   "cell_type": "code",
   "execution_count": null,
   "metadata": {},
   "outputs": [],
   "source": []
  },
  {
   "cell_type": "markdown",
   "metadata": {},
   "source": [
    "## Testando as Redes Neurais com Atributos Categóricos\n",
    "\n",
    "1. Considere as 6 redes neurais obtidas nos dois top-3 anteriores (arquiteturas próprias e regra da pirâmide geométrica)\n",
    "2. Com todos os atributos preditores da base de dados original, incluindo os categóricos, treine e teste estas mesmas redes por 100 repetições  \n",
    "    2.1 Considere o melhor otimizador para cada uma delas  \n",
    "    2.2 Faça uso de 200 épocas para treinamento  \n",
    "    2.2 Apresente os resultados de acurácia e F-Score em termos da média +- dp para cada arquitetura\n",
    "3. Apresente o gráfico boxplot para o F-Score das 6 arquiteturas perante as 100 repetições"
   ]
  },
  {
   "cell_type": "code",
   "execution_count": null,
   "metadata": {},
   "outputs": [],
   "source": []
  },
  {
   "cell_type": "markdown",
   "metadata": {},
   "source": [
    "## Considerações Parciais\n",
    "\n",
    "1. É possível identificar uma rede com desempenho superior às demais?\n",
    "2. Qual estratégia mostrou-se mais producente para a obtenção de boas arquiteturas (Estratégia Própria ou Pirâmide Geométrica)? Por quê?\n",
    "3. Considerar os atributos categóricos trouxe melhorias? Justifique.\n",
    "4. Um número maior de épocas trouxe melhorias?\n",
    "5. Qual a maior dificuldade de resolução do problema proposto perante as RNAs?"
   ]
  },
  {
   "cell_type": "code",
   "execution_count": null,
   "metadata": {},
   "outputs": [],
   "source": []
  }
 ],
 "metadata": {
  "kernelspec": {
   "display_name": "Python 3",
   "language": "python",
   "name": "python3"
  },
  "language_info": {
   "codemirror_mode": {
    "name": "ipython",
    "version": 3
   },
   "file_extension": ".py",
   "mimetype": "text/x-python",
   "name": "python",
   "nbconvert_exporter": "python",
   "pygments_lexer": "ipython3",
   "version": "3.8.5"
  }
 },
 "nbformat": 4,
 "nbformat_minor": 4
}
