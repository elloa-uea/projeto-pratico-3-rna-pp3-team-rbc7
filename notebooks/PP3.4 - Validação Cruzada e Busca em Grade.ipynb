{
 "cells": [
  {
   "cell_type": "markdown",
   "metadata": {},
   "source": [
    "# Redes Neurais Artificiais 2020.1 -- Projeto Prático 3.4\n",
    "\n",
    "**Disciplina**: Redes Neurais Artificiais 2020.1  \n",
    "**Professora**: Elloá B. Guedes (ebgcosta@uea.edu.br)  \n",
    "**Github**: http://github.com/elloa  \n",
    "\n",
    "**Alunos**: Lucas da Silva Lima 1515080170, Rafael Barbosa de Carvalho 1315080337.\n",
    "        \n",
    "\n",
    "Levando em conta a base de dados **_Forest Cover Type_**, esta terceira parte do Projeto Prático 3 diz respeito à proposição e avaliação de múltiplas redes neurais artificiais do tipo feedforward multilayer perceptron para o problema da classificação multi-classe da cobertura florestal em uma área do Roosevelt National Forest.\n",
    "\n",
    "## Busca em Grade\n",
    "\n",
    "Uma maneira padrão de escolher os parâmetros de um modelo de Machine Learning é por meio de uma busca em grade via força bruta. O algoritmo da busca em grade é dado como segue:\n",
    "\n",
    "1. Escolha a métrica de desempenho que você deseja maximizar  \n",
    "2. Escolha o algoritmo de Machine Learning (exemplo: redes neurais artificiais). Em seguida, defina os parâmetros ou hiperparâmetros deste tipo de modelo sobre os quais você dseja otimizar (número de épocas, taxa de aprendizado, etc.) e construa um array de valores a serem testados para cada parâmetro ou hiperparâmetro.  \n",
    "3. Defina a grade de busca, a qual é dada como o produto cartesiano de cada parâmetro a ser testado. Por exemplo, para os arrays [50, 100, 1000] e [10, 15], tem-se que a grade é [(50,10), (50,15), (100,10), (100,15), (1000,10), (1000,15)].\n",
    "4. Para cada combinação de parâmetros a serem otimizados, utilize o conjunto de treinamento para realizar uma validação cruzada (holdout ou k-fold) e calcule a métrica de avaliação no conjunto de teste (ou conjuntos de teste)\n",
    "5. Escolha a combinação de parâmetros que maximizam a métrica de avaliação. Este é o modelo otimizado.\n",
    "\n",
    "Por que esta abordagem funciona? Porque a busca em grade efetua uma pesquisa extensiva sobre as possíveis combinações de valores para cada um dos parâmetros a serem ajustados. Para cada combinação, ela estima a performance do modelo em dados novos. Por fim, o modelo com melhor métrica de desempenho é escolhido. Tem-se então que este modelo é o que melhor pode vir a generalizar mediante dados nunca antes vistos.\n",
    "\n",
    "## Efetuando a Busca em Grade sobre Hiperparâmetros das Top-6 RNAs\n",
    "\n",
    "Considerando a etapa anterior do projeto prático, foram identificadas pelo menos 6 melhores Redes Neurais para o problema da classificação multi-classe da cobertura florestal no conjunto de dados selecionado. Algumas destas redes possuem atributos categóricos como variáveis preditoras, enquanto outras possuem apenas os atributos numéricos como preditores.\n",
    "\n",
    "A primeira etapa desta segunda parte do projeto consiste em trazer para este notebook estas seis arquiteturas, ressaltando:\n",
    "\n",
    "1. Número de neurônios ocultos por camada  \n",
    "2. Função de Ativação  \n",
    "3. Utilização ou não de atributos categóricos   \n",
    "4. Desempenho médio +- desvio padrão nos testes anteriores  \n",
    "5. Número de repetições que a equipe conseguiu realizar para verificar os resultados  \n",
    "\n",
    "Elabore uma busca em grade sobre estas arquiteturas que contemple variações nos hiperparâmetros a seguir, conforme documentação de [MLPClassifier](https://scikit-learn.org/stable/modules/generated/sklearn.neural_network.MLPClassifier.html)\n",
    "\n",
    "A. Solver  (Não usar o LBFGS, pois é mais adequado para datasets pequenos)  \n",
    "B. Batch Size  \n",
    "C. Learning Rate Init  \n",
    "D. Paciência (n_iter_no_change)  \n",
    "E. Épocas  \n",
    "\n",
    "Nesta busca em grande, contemple a utilização do objeto [GridSearchCV](https://scikit-learn.org/stable/modules/generated/sklearn.model_selection.GridSearchCV.html)"
   ]
  },
  {
   "cell_type": "markdown",
   "metadata": {},
   "source": [
    "## Validação Cruzada k-fold\n",
    "\n",
    "Na elaboração da busca em grid, vamos avaliar os modelos propostos segundo uma estratégia de validação cruzada ainda não explorada até o momento: a validação cruzada k-fold. Segundo a mesma, o conjunto de dados é particionado em k partes: a cada iteração, separa-se uma das partes para teste e o modelo é treinado com as k-1 partes remanescentes. Valores sugestivos de k na literatura são k = 3, 5 ou 10, pois o custo computacional desta validação dos modelos é alto. A métrica de desempenho é resultante da média dos desempenhos nas k iterações. A figura a seguir ilustra a ideia desta avaliação\n",
    "\n",
    "<img src = \"https://ethen8181.github.io/machine-learning/model_selection/img/kfolds.png\" width=600></img>\n",
    "\n",
    "\n",
    "Considerando a métrica de desempenho F1-Score, considere a validação cruzada 5-fold para aferir os resultados da busca em grande anterior."
   ]
  },
  {
   "cell_type": "markdown",
   "metadata": {},
   "source": [
    "Na parte 3 deste projeto, obtivemos 8-tops redes neurais com os maiores valores de acurácia e f-score, \n",
    "para este problema iremos selecionar as 6-tops em relação ao F-Score. As quais na estratégia proposta utilizaremos as redes, 3, 4 e 7, e na regra da Pirâmide Geométrica, utilizaremos as Redes 20, 21 e 22, pois são essas que possuem os maiores valores de F-Score, no qual tentaremos aumentar. No dataset, não utilizaremos os atributos categóricos para esta parte do projeto."
   ]
  },
  {
   "cell_type": "markdown",
   "metadata": {},
   "source": [
    "#### Rede 3\n",
    "    Média F-Score = 0.6451\n",
    "    Desvio Padrão F-Score = 0.0103\n",
    "\n",
    "### Rede 4\n",
    "    Média F-Score = 0.6749\n",
    "    Desvio Padrão F-Score = 0.0101\n",
    "\n",
    "#### Rede 7 treinada \n",
    "    Média F-Score = 0.6554\n",
    "    Desvio Padrão F-Score = 0.0100\n",
    "\n",
    "#### Rede 20\n",
    "    Média F-Score = 0.6650\n",
    "    Desvio Padrão F-Score = 0.0149\n",
    "\n",
    "\n",
    "#### Rede 21\n",
    "    Média F-Score = 0.6688\n",
    "    Desvio Padrão F-Score = 0.0130\n",
    "\n",
    "\n",
    "#### Rede 22\n",
    "    Média F-Score = 0.6751\n",
    "    Desvio Padrão F-Score = 0.0140"
   ]
  },
  {
   "cell_type": "code",
   "execution_count": 1,
   "metadata": {},
   "outputs": [],
   "source": [
    "## Reservado para a importação de bibliotecas\n",
    "import numpy as np\n",
    "import matplotlib.pyplot as plt\n",
    "import pandas as pd\n",
    "from sklearn.model_selection import train_test_split, GridSearchCV, cross_val_score\n",
    "from sklearn.neural_network import MLPClassifier\n",
    "from sklearn.metrics import plot_confusion_matrix, f1_score\n",
    "from sklearn.preprocessing import StandardScaler"
   ]
  },
  {
   "cell_type": "code",
   "execution_count": 2,
   "metadata": {},
   "outputs": [],
   "source": [
    "csvFileComplete = pd.read_csv(\"data/covtype.csv\")\n",
    "df_complete = pd.DataFrame(csvFileComplete)\n",
    "\n",
    "# Eliminando colunas relativas à atributos categóricos\n",
    "columns = ['Wilderness_Area1', 'Wilderness_Area2', 'Wilderness_Area3','Wilderness_Area4']\n",
    "for i in range(1,41):\n",
    "    soil = 'Soil_Type'+str(i)\n",
    "    columns.append(soil)\n",
    "    soil = '' \n",
    "\n",
    "\n",
    "df_complete.drop(columns, axis='columns', inplace=True)\n",
    "array_complete = df_complete.to_numpy()\n",
    "x_complete = array_complete[...,0:array_complete.shape[1]-1] \n",
    "y_complete = array_complete[...,array_complete.shape[1]-1]\n",
    "\n",
    "scaler = StandardScaler()\n",
    "x_complete_scaler = scaler.fit_transform(x_complete)"
   ]
  },
  {
   "cell_type": "code",
   "execution_count": 3,
   "metadata": {},
   "outputs": [],
   "source": [
    "parameters = {'hidden_layer_sizes': [(15), (15,15), (10,15), (24), (25), (26)],\n",
    "              'activation': [\"logistic\", \"tanh\", \"relu\"],\n",
    "              'random_state': [1],\n",
    "              'solver': ['adam', 'sgd'], \n",
    "              'batch_size': [\"auto\"], \n",
    "              'learning_rate_init': [0.01], \n",
    "              'n_iter_no_change': [10], \n",
    "              'max_iter': [100, 200, 300]}"
   ]
  },
  {
   "cell_type": "markdown",
   "metadata": {},
   "source": [
    "Em relação a parte 3 do projeto, esses foram os valores que utilizamos, alguns mantivemos o padrão para todos, sem alterações, como o batch_size, o learning_rate_init e o n_iter_no_change, porém modificamos, principalmente na estratégia que propusemos o solver e a quantidade de épocas."
   ]
  },
  {
   "cell_type": "code",
   "execution_count": 4,
   "metadata": {},
   "outputs": [
    {
     "name": "stdout",
     "output_type": "stream",
     "text": [
      "Fitting 5 folds for each of 108 candidates, totalling 540 fits\n"
     ]
    },
    {
     "name": "stderr",
     "output_type": "stream",
     "text": [
      "[Parallel(n_jobs=-1)]: Using backend LokyBackend with 4 concurrent workers.\n",
      "[Parallel(n_jobs=-1)]: Done   5 tasks      | elapsed:  2.4min\n",
      "[Parallel(n_jobs=-1)]: Done  10 tasks      | elapsed:  4.3min\n",
      "[Parallel(n_jobs=-1)]: Done  17 tasks      | elapsed:  7.5min\n",
      "[Parallel(n_jobs=-1)]: Done  24 tasks      | elapsed:  9.7min\n",
      "[Parallel(n_jobs=-1)]: Done  33 tasks      | elapsed: 14.2min\n",
      "[Parallel(n_jobs=-1)]: Done  42 tasks      | elapsed: 19.6min\n",
      "[Parallel(n_jobs=-1)]: Done  53 tasks      | elapsed: 29.4min\n",
      "[Parallel(n_jobs=-1)]: Done  64 tasks      | elapsed: 39.2min\n",
      "[Parallel(n_jobs=-1)]: Done  77 tasks      | elapsed: 48.2min\n",
      "[Parallel(n_jobs=-1)]: Done  90 tasks      | elapsed: 60.4min\n",
      "[Parallel(n_jobs=-1)]: Done 105 tasks      | elapsed: 66.0min\n",
      "[Parallel(n_jobs=-1)]: Done 120 tasks      | elapsed: 75.6min\n",
      "[Parallel(n_jobs=-1)]: Done 137 tasks      | elapsed: 84.0min\n",
      "[Parallel(n_jobs=-1)]: Done 154 tasks      | elapsed: 93.6min\n",
      "[Parallel(n_jobs=-1)]: Done 173 tasks      | elapsed: 102.2min\n",
      "[Parallel(n_jobs=-1)]: Done 192 tasks      | elapsed: 111.4min\n",
      "[Parallel(n_jobs=-1)]: Done 213 tasks      | elapsed: 121.0min\n",
      "[Parallel(n_jobs=-1)]: Done 234 tasks      | elapsed: 134.3min\n",
      "[Parallel(n_jobs=-1)]: Done 257 tasks      | elapsed: 148.7min\n",
      "[Parallel(n_jobs=-1)]: Done 280 tasks      | elapsed: 160.3min\n",
      "[Parallel(n_jobs=-1)]: Done 305 tasks      | elapsed: 172.9min\n",
      "[Parallel(n_jobs=-1)]: Done 330 tasks      | elapsed: 185.3min\n",
      "[Parallel(n_jobs=-1)]: Done 357 tasks      | elapsed: 198.4min\n",
      "[Parallel(n_jobs=-1)]: Done 384 tasks      | elapsed: 206.2min\n",
      "[Parallel(n_jobs=-1)]: Done 413 tasks      | elapsed: 224.5min\n",
      "[Parallel(n_jobs=-1)]: Done 442 tasks      | elapsed: 243.4min\n",
      "[Parallel(n_jobs=-1)]: Done 473 tasks      | elapsed: 257.3min\n",
      "[Parallel(n_jobs=-1)]: Done 504 tasks      | elapsed: 271.9min\n",
      "[Parallel(n_jobs=-1)]: Done 540 out of 540 | elapsed: 290.2min finished\n"
     ]
    }
   ],
   "source": [
    "grid = GridSearchCV(MLPClassifier(), param_grid=parameters, cv=5, scoring='f1_macro', n_jobs=-1, verbose=10)\n",
    "grid_result = grid.fit(x_complete_scaler,y_complete)"
   ]
  },
  {
   "cell_type": "code",
   "execution_count": 21,
   "metadata": {},
   "outputs": [],
   "source": [
    "best_model = grid.best_estimator_ # melhor modelo\n",
    "best_score = grid.best_score_ # melhor f-score desse melhor modelo\n",
    "best_params = grid.best_params_ # parametros desse melhor modelo"
   ]
  },
  {
   "cell_type": "markdown",
   "metadata": {},
   "source": [
    "## Identificando a melhor solução\n",
    "\n",
    "Como resultado da busca em grande com validação cruzada 5-fold, identifique o modelo otimizado com melhor desempenho para o problema. Apresente claramente este modelo, seus parâmetros, hiperparâmetros otimizados e resultados para cada um dos folds avaliados. Esta é a melhor solução identificada em decorrência deste projeto"
   ]
  },
  {
   "cell_type": "code",
   "execution_count": 22,
   "metadata": {},
   "outputs": [
    {
     "name": "stdout",
     "output_type": "stream",
     "text": [
      "Melhor modelo: MLPClassifier(activation='tanh', hidden_layer_sizes=26, learning_rate_init=0.01,\n",
      "              random_state=1, solver='sgd') \n",
      "\n",
      "FScore do melhor modelo: 0.45050174729577713 \n",
      "\n",
      "Parâmetros do melhor modelo: {'activation': 'tanh', 'batch_size': 'auto', 'hidden_layer_sizes': 26, 'learning_rate_init': 0.01, 'max_iter': 200, 'n_iter_no_change': 10, 'random_state': 1, 'solver': 'sgd'}\n",
      "\n"
     ]
    }
   ],
   "source": [
    "print(f\"Melhor modelo: {best_model} \\n\")\n",
    "print(f\"FScore do melhor modelo: {best_score} \\n\")\n",
    "print(f\"Parâmetros do melhor modelo: {best_params}\\n\")"
   ]
  },
  {
   "cell_type": "code",
   "execution_count": 7,
   "metadata": {},
   "outputs": [],
   "source": [
    "fold_results = cross_val_score(best_model, x_complete, y_complete, cv=5)"
   ]
  },
  {
   "cell_type": "code",
   "execution_count": 16,
   "metadata": {},
   "outputs": [
    {
     "name": "stdout",
     "output_type": "stream",
     "text": [
      "Resultado para os 5 folds: [0.48759498 0.48759498 0.48759918 0.48760779 0.36460646]\n"
     ]
    }
   ],
   "source": [
    "print(f\"Resultado para os 5 folds: {fold_results}\")"
   ]
  },
  {
   "cell_type": "markdown",
   "metadata": {},
   "source": [
    "## Empacotando a solução\n",
    "\n",
    "Suponha que você deve entregar este classificador ao órgão responsável por administrar o Roosevelt National Park. Para tanto, você deve fazer uma preparação do mesmo para utilização neste cenário. Uma vez que já identificou os melhores parâmetros e hiperparâmetros, o passo remanescente consiste em treinar o modelo com estes valores e todos os dados disponíveis, salvando o conjunto de pesos do modelo ao final para entrega ao cliente. Assim, finalize o projeto prático realizando tais passos.\n",
    "\n",
    "1. Consulte a documentação a seguir:\n",
    "https://scikit-learn.org/stable/modules/model_persistence.html  \n",
    "2. Treine o modelo com todos os dados  \n",
    "3. Salve o modelo em disco  \n",
    "4. Construa uma rotina que recupere o modelo em disco  \n",
    "5. Mostre que a rotina é funcional, fazendo previsões com todos os elementos do dataset e exibindo uma matriz de confusão das mesmas"
   ]
  },
  {
   "cell_type": "code",
   "execution_count": 9,
   "metadata": {},
   "outputs": [
    {
     "data": {
      "text/plain": [
       "MLPClassifier(activation='tanh', hidden_layer_sizes=26, learning_rate_init=0.01,\n",
       "              random_state=1, solver='sgd')"
      ]
     },
     "execution_count": 9,
     "metadata": {},
     "output_type": "execute_result"
    }
   ],
   "source": [
    "best_estimator = grid.best_estimator_\n",
    "best_estimator.fit(x_complete, y_complete)"
   ]
  },
  {
   "cell_type": "code",
   "execution_count": 10,
   "metadata": {},
   "outputs": [],
   "source": [
    "from joblib  import dump, load"
   ]
  },
  {
   "cell_type": "code",
   "execution_count": 11,
   "metadata": {},
   "outputs": [
    {
     "data": {
      "text/plain": [
       "['estimator.joblib']"
      ]
     },
     "execution_count": 11,
     "metadata": {},
     "output_type": "execute_result"
    }
   ],
   "source": [
    "dump(best_estimator, 'estimator.joblib')"
   ]
  },
  {
   "cell_type": "code",
   "execution_count": 12,
   "metadata": {},
   "outputs": [],
   "source": [
    "def load_estimator(estimator_name):\n",
    "    return load(estimator_name)"
   ]
  },
  {
   "cell_type": "code",
   "execution_count": 13,
   "metadata": {},
   "outputs": [],
   "source": [
    "estimator_from_disk = load_estimator('estimator.joblib')"
   ]
  },
  {
   "cell_type": "code",
   "execution_count": 14,
   "metadata": {},
   "outputs": [],
   "source": [
    "y_predict = estimator_from_disk.predict(x_complete)"
   ]
  },
  {
   "cell_type": "code",
   "execution_count": 20,
   "metadata": {},
   "outputs": [
    {
     "data": {
      "image/png": "[encoded data removed]",
      "text/plain": [
       "<Figure size 1008x864 with 2 Axes>"
      ]
     },
     "metadata": {
      "needs_background": "light"
     },
     "output_type": "display_data"
    }
   ],
   "source": [
    "fig, ax = plt.subplots(figsize=(14,12))\n",
    "plot_confusion_matrix(estimator_from_disk, x_complete, y_complete,\n",
    "                           display_labels=[\"Spruce\",\"Logdepole pine\",\"Ponderosa pine\",\"Cottonwood willow\",\"Aspen\",\"Douglas-fir\",\"Krummholz\"], \n",
    "                           cmap=plt.cm.Blues,\n",
    "                           normalize=\"true\", ax=ax)\n",
    "plt.title(\"Matriz de Confusão do Modelo Persistido em Disco\")\n",
    "plt.show()"
   ]
  }
 ],
 "metadata": {
  "kernelspec": {
   "display_name": "Python 3",
   "language": "python",
   "name": "python3"
  },
  "language_info": {
   "codemirror_mode": {
    "name": "ipython",
    "version": 3
   },
   "file_extension": ".py",
   "mimetype": "text/x-python",
   "name": "python",
   "nbconvert_exporter": "python",
   "pygments_lexer": "ipython3",
   "version": "3.8.5"
  }
 },
 "nbformat": 4,
 "nbformat_minor": 4
}
